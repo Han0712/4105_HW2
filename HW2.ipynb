{
 "cells": [
  {
   "cell_type": "code",
   "execution_count": 115,
   "id": "c4c2b520-db47-4e78-8e72-bbf1750df55b",
   "metadata": {},
   "outputs": [],
   "source": [
    "import matplotlib.pyplot as plt\n",
    "import numpy as np\n",
    "import pandas as pd\n",
    "import seaborn as sns\n",
    "from sklearn import metrics\n",
    "from sklearn.linear_model import LogisticRegression\n",
    "from sklearn.metrics import confusion_matrix\n",
    "from sklearn.model_selection import train_test_split, KFold, cross_validate\n",
    "from sklearn.naive_bayes import GaussianNB\n",
    "from sklearn.preprocessing import MinMaxScaler, StandardScaler"
   ]
  },
  {
   "cell_type": "code",
   "execution_count": 116,
   "id": "d982dbeb-1d27-42b5-bc29-59d5078de994",
   "metadata": {},
   "outputs": [
    {
     "data": {
      "text/html": [
       "<div>\n",
       "<style scoped>\n",
       "    .dataframe tbody tr th:only-of-type {\n",
       "        vertical-align: middle;\n",
       "    }\n",
       "\n",
       "    .dataframe tbody tr th {\n",
       "        vertical-align: top;\n",
       "    }\n",
       "\n",
       "    .dataframe thead th {\n",
       "        text-align: right;\n",
       "    }\n",
       "</style>\n",
       "<table border=\"1\" class=\"dataframe\">\n",
       "  <thead>\n",
       "    <tr style=\"text-align: right;\">\n",
       "      <th></th>\n",
       "      <th>Pregnancies</th>\n",
       "      <th>Glucose</th>\n",
       "      <th>BloodPressure</th>\n",
       "      <th>SkinThickness</th>\n",
       "      <th>Insulin</th>\n",
       "      <th>BMI</th>\n",
       "      <th>DiabetesPedigreeFunction</th>\n",
       "      <th>Age</th>\n",
       "      <th>Outcome</th>\n",
       "    </tr>\n",
       "  </thead>\n",
       "  <tbody>\n",
       "    <tr>\n",
       "      <th>0</th>\n",
       "      <td>6</td>\n",
       "      <td>148</td>\n",
       "      <td>72</td>\n",
       "      <td>35</td>\n",
       "      <td>0</td>\n",
       "      <td>33.6</td>\n",
       "      <td>0.627</td>\n",
       "      <td>50</td>\n",
       "      <td>1</td>\n",
       "    </tr>\n",
       "    <tr>\n",
       "      <th>1</th>\n",
       "      <td>1</td>\n",
       "      <td>85</td>\n",
       "      <td>66</td>\n",
       "      <td>29</td>\n",
       "      <td>0</td>\n",
       "      <td>26.6</td>\n",
       "      <td>0.351</td>\n",
       "      <td>31</td>\n",
       "      <td>0</td>\n",
       "    </tr>\n",
       "    <tr>\n",
       "      <th>2</th>\n",
       "      <td>8</td>\n",
       "      <td>183</td>\n",
       "      <td>64</td>\n",
       "      <td>0</td>\n",
       "      <td>0</td>\n",
       "      <td>23.3</td>\n",
       "      <td>0.672</td>\n",
       "      <td>32</td>\n",
       "      <td>1</td>\n",
       "    </tr>\n",
       "    <tr>\n",
       "      <th>3</th>\n",
       "      <td>1</td>\n",
       "      <td>89</td>\n",
       "      <td>66</td>\n",
       "      <td>23</td>\n",
       "      <td>94</td>\n",
       "      <td>28.1</td>\n",
       "      <td>0.167</td>\n",
       "      <td>21</td>\n",
       "      <td>0</td>\n",
       "    </tr>\n",
       "    <tr>\n",
       "      <th>4</th>\n",
       "      <td>0</td>\n",
       "      <td>137</td>\n",
       "      <td>40</td>\n",
       "      <td>35</td>\n",
       "      <td>168</td>\n",
       "      <td>43.1</td>\n",
       "      <td>2.288</td>\n",
       "      <td>33</td>\n",
       "      <td>1</td>\n",
       "    </tr>\n",
       "  </tbody>\n",
       "</table>\n",
       "</div>"
      ],
      "text/plain": [
       "   Pregnancies  Glucose  BloodPressure  SkinThickness  Insulin   BMI  \\\n",
       "0            6      148             72             35        0  33.6   \n",
       "1            1       85             66             29        0  26.6   \n",
       "2            8      183             64              0        0  23.3   \n",
       "3            1       89             66             23       94  28.1   \n",
       "4            0      137             40             35      168  43.1   \n",
       "\n",
       "   DiabetesPedigreeFunction  Age  Outcome  \n",
       "0                     0.627   50        1  \n",
       "1                     0.351   31        0  \n",
       "2                     0.672   32        1  \n",
       "3                     0.167   21        0  \n",
       "4                     2.288   33        1  "
      ]
     },
     "execution_count": 116,
     "metadata": {},
     "output_type": "execute_result"
    }
   ],
   "source": [
    "# Problem 1\n",
    "# Reads labelled training data\n",
    "df = pd.read_csv('/Users/Han/Downloads/diabetes.csv')\n",
    "df.head()"
   ]
  },
  {
   "cell_type": "code",
   "execution_count": 117,
   "id": "e95bcc42-d322-4df1-8009-0f7cef33fa64",
   "metadata": {},
   "outputs": [],
   "source": [
    "x = df.values[:, :7]\n",
    "y = df.values[:, 8]"
   ]
  },
  {
   "cell_type": "code",
   "execution_count": 118,
   "id": "0a3c7207-3859-48b1-a2af-8c2e986e79df",
   "metadata": {},
   "outputs": [
    {
     "name": "stdout",
     "output_type": "stream",
     "text": [
      "[[97 10]\n",
      " [19 28]]\n"
     ]
    }
   ],
   "source": [
    "# Performing minimum and maximum scaling\n",
    "minMaxScaling = MinMaxScaler()\n",
    "x = minMaxScaling.fit_transform(x)\n",
    "\n",
    "# Performing standardization\n",
    "standScaling = StandardScaler()\n",
    "x = standScaling.fit_transform(x)\n",
    "\n",
    "# Performing 80% and 20% split of the data into training and test sets\n",
    "np.random.seed(0)\n",
    "x_train, x_test, y_train, y_test = train_test_split(x, y, train_size=0.8, test_size=0.2, random_state=np.random)\n",
    "\n",
    "# Performing logistic regression\n",
    "lRegression = LogisticRegression()\n",
    "lRegression.fit(x_train, y_train)\n",
    "y_pred = lRegression.predict(x_test)\n",
    "\n",
    "# Generating confusion matrix to evaluate the accuracy\n",
    "conf_matrix = confusion_matrix(y_test, y_pred)\n",
    "print(conf_matrix)"
   ]
  },
  {
   "cell_type": "code",
   "execution_count": 119,
   "id": "23f2b129-680c-4191-849a-0404748fbe37",
   "metadata": {},
   "outputs": [
    {
     "name": "stdout",
     "output_type": "stream",
     "text": [
      "Accuracy: 0.8116883116883117\n",
      "Precision: 0.7368421052631579\n",
      "Recall: 0.5957446808510638\n"
     ]
    }
   ],
   "source": [
    "# Evaluating the model using accuracy, precision, and recall evaluation metrics\n",
    "print('Accuracy:', metrics.accuracy_score(y_test, y_pred))\n",
    "print('Precision:', metrics.precision_score(y_test, y_pred))\n",
    "print('Recall:', metrics.recall_score(y_test, y_pred))"
   ]
  },
  {
   "cell_type": "code",
   "execution_count": 120,
   "id": "142c22e5-0fea-4271-bbc7-9a7698790948",
   "metadata": {},
   "outputs": [
    {
     "data": {
      "text/plain": [
       "Text(33.0, 0.5, 'Actual')"
      ]
     },
     "execution_count": 120,
     "metadata": {},
     "output_type": "execute_result"
    },
    {
     "data": {
      "image/png": "[encoded data removed]",
      "text/plain": [
       "<Figure size 432x288 with 2 Axes>"
      ]
     },
     "metadata": {
      "needs_background": "light"
     },
     "output_type": "display_data"
    }
   ],
   "source": [
    "# Ploting the results of the binary classifier model\n",
    "class_names = [0, 1]\n",
    "tick_marks = np.arange(len(class_names))\n",
    "plt.subplots()\n",
    "plt.xticks(tick_marks, class_names)\n",
    "plt.yticks(tick_marks, class_names)\n",
    "\n",
    "# Generates heat map\n",
    "sns.heatmap(pd.DataFrame(conf_matrix), annot=True, cmap='Blues', fmt='g')\n",
    "plt.title('Confusion matrix')\n",
    "plt.xlabel('Predicted')\n",
    "plt.ylabel('Actual')"
   ]
  },
  {
   "cell_type": "code",
   "execution_count": 121,
   "id": "d778556e-ee19-4894-bdfd-1366e1d41cc7",
   "metadata": {},
   "outputs": [
    {
     "name": "stdout",
     "output_type": "stream",
     "text": [
      "[[94 13]\n",
      " [19 28]]\n"
     ]
    }
   ],
   "source": [
    "# Problem 2\n",
    "# Generating Gaussian Naive Bayes model\n",
    "GauNB = GaussianNB()\n",
    "GauNB.fit(x_train, y_train)\n",
    "y_pred = GauNB.predict(x_test)\n",
    "\n",
    "# Generating confusion matrix to evaluate the accuracy\n",
    "conf_matrix = confusion_matrix(y_test, y_pred)\n",
    "print(conf_matrix)"
   ]
  },
  {
   "cell_type": "code",
   "execution_count": 122,
   "id": "79a1ec77-5c5d-4a5d-bb58-5ad47c50bbd2",
   "metadata": {},
   "outputs": [
    {
     "name": "stdout",
     "output_type": "stream",
     "text": [
      "Accuracy: 0.7922077922077922\n",
      "Precision: 0.6829268292682927\n",
      "Recall: 0.5957446808510638\n"
     ]
    }
   ],
   "source": [
    "# Evaluatinh model using accuracy, precision, and recall evaluation metrics\n",
    "print('Accuracy:', metrics.accuracy_score(y_test, y_pred))\n",
    "print('Precision:', metrics.precision_score(y_test, y_pred))\n",
    "print('Recall:', metrics.recall_score(y_test, y_pred))"
   ]
  },
  {
   "cell_type": "code",
   "execution_count": 123,
   "id": "e757bd4b-066b-42c7-86e9-3f1a21fe87bb",
   "metadata": {},
   "outputs": [
    {
     "data": {
      "text/plain": [
       "Text(33.0, 0.5, 'Actual class')"
      ]
     },
     "execution_count": 123,
     "metadata": {},
     "output_type": "execute_result"
    },
    {
     "data": {
      "image/png": "[encoded data removed]",
      "text/plain": [
       "<Figure size 432x288 with 2 Axes>"
      ]
     },
     "metadata": {
      "needs_background": "light"
     },
     "output_type": "display_data"
    }
   ],
   "source": [
    "# Ploting the results of the binary classifier model\n",
    "tick_marks = np.arange(len(class_names))\n",
    "plt.subplots()\n",
    "plt.xticks(tick_marks, class_names)\n",
    "plt.yticks(tick_marks, class_names)\n",
    "\n",
    "# Generating heat map\n",
    "sns.heatmap(pd.DataFrame(conf_matrix), annot=True, cmap='Blues', fmt='g')\n",
    "plt.title('Confusion matrix')\n",
    "plt.xlabel('Predicted class')\n",
    "plt.ylabel('Actual class')"
   ]
  },
  {
   "cell_type": "code",
   "execution_count": 124,
   "id": "6d2d666d-7eba-43b7-8707-59d50fb94822",
   "metadata": {},
   "outputs": [
    {
     "name": "stdout",
     "output_type": "stream",
     "text": [
      "Accuracy: [0.77922078 0.74675325 0.77922078 0.79738562 0.73856209]\n",
      "Precision: [0.75609756 0.68292683 0.72093023 0.74358974 0.69047619]\n",
      "Recall: [0.56363636 0.51851852 0.58490566 0.58       0.51785714]\n"
     ]
    }
   ],
   "source": [
    "# Problem 3\n",
    "# Performing K-fold cross-validation of logistic regression for K = 5 folds\n",
    "\n",
    "metrics = ['accuracy', 'precision', 'recall']\n",
    "crossV = KFold(n_splits=5, random_state=1, shuffle=True)\n",
    "result = cross_validate(lRegression, x, y, scoring=metrics, cv=crossV, n_jobs=-1)\n",
    "\n",
    "print('Accuracy:', result['test_accuracy'])\n",
    "print('Precision:', result['test_precision'])\n",
    "print('Recall:', result['test_recall'])"
   ]
  },
  {
   "cell_type": "code",
   "execution_count": 125,
   "id": "74104738-8d69-4663-8686-b6e90ad78c89",
   "metadata": {},
   "outputs": [
    {
     "name": "stdout",
     "output_type": "stream",
     "text": [
      "Accuracy: [0.79220779 0.76623377 0.79220779 0.7012987  0.80519481 0.71428571\n",
      " 0.85714286 0.75324675 0.72368421 0.76315789]\n",
      "Precision: [0.7826087  0.72222222 0.81818182 0.52631579 0.81818182 0.54545455\n",
      " 0.8        0.7        0.63157895 0.75      ]\n",
      "Recall: [0.62068966 0.5        0.6        0.41666667 0.62068966 0.5\n",
      " 0.69565217 0.51851852 0.46153846 0.6       ]\n"
     ]
    }
   ],
   "source": [
    "# Performing K-fold cross-validation of logistic regression for K = 10 folds\n",
    "\n",
    "crossV = KFold(n_splits=10, random_state=1, shuffle=True)\n",
    "result = cross_validate(lRegression, x, y, scoring=metrics, cv=crossV, n_jobs=-1)\n",
    "\n",
    "print('Accuracy:', result['test_accuracy'])\n",
    "print('Precision:', result['test_precision'])\n",
    "print('Recall:', result['test_recall'])"
   ]
  },
  {
   "cell_type": "code",
   "execution_count": 126,
   "id": "bf58b942-3f4a-4927-af60-2df2026852a8",
   "metadata": {},
   "outputs": [
    {
     "name": "stdout",
     "output_type": "stream",
     "text": [
      "Accuracy: [0.79220779 0.73376623 0.73376623 0.78431373 0.75163399]\n",
      "Precision: [0.75555556 0.63829787 0.63043478 0.68085106 0.70454545]\n",
      "Recall: [0.61818182 0.55555556 0.54716981 0.64       0.55357143]\n"
     ]
    }
   ],
   "source": [
    "# Problem 4\n",
    "# Performs K-fold cross-validation of Gaussian Naive Bayes model for K = 5 folds\n",
    "\n",
    "crossV = KFold(n_splits=5, random_state=1, shuffle=True)\n",
    "result = cross_validate(GauNB, x, y, scoring=metrics, cv=crossV, n_jobs=-1)\n",
    "\n",
    "print('Accuracy:', result['test_accuracy'])\n",
    "print('Precision:', result['test_precision'])\n",
    "print('Recall:', result['test_recall'])"
   ]
  },
  {
   "cell_type": "code",
   "execution_count": 127,
   "id": "fc1dc7b7-2e1b-40b2-9c00-2dce88145f77",
   "metadata": {},
   "outputs": [
    {
     "name": "stdout",
     "output_type": "stream",
     "text": [
      "Accuracy: [0.83116883 0.75324675 0.81818182 0.67532468 0.80519481 0.68831169\n",
      " 0.81818182 0.77922078 0.76315789 0.72368421]\n",
      "Precision: [0.83333333 0.65217391 0.80769231 0.47826087 0.79166667 0.5\n",
      " 0.69565217 0.72727273 0.68181818 0.69565217]\n",
      "Recall: [0.68965517 0.57692308 0.7        0.45833333 0.65517241 0.45833333\n",
      " 0.69565217 0.59259259 0.57692308 0.53333333]\n"
     ]
    }
   ],
   "source": [
    "# Performs K-fold cross-validation of Gaussian Naive Bayes model for K = 10 folds\n",
    "\n",
    "crossV = KFold(n_splits=10, random_state=1, shuffle=True)\n",
    "result = cross_validate(GauNB, x, y, scoring=metrics, cv=crossV, n_jobs=-1)\n",
    "\n",
    "print('Accuracy:', result['test_accuracy'])\n",
    "print('Precision:', result['test_precision'])\n",
    "print('Recall:', result['test_recall'])\n",
    "plt.show()"
   ]
  },
  {
   "cell_type": "code",
   "execution_count": null,
   "id": "8ff10190-5a14-4a5a-8402-6fa1c43e9faf",
   "metadata": {},
   "outputs": [],
   "source": []
  }
 ],
 "metadata": {
  "kernelspec": {
   "display_name": "Python 3",
   "language": "python",
   "name": "python3"
  },
  "language_info": {
   "codemirror_mode": {
    "name": "ipython",
    "version": 3
   },
   "file_extension": ".py",
   "mimetype": "text/x-python",
   "name": "python",
   "nbconvert_exporter": "python",
   "pygments_lexer": "ipython3",
   "version": "3.8.8"
  }
 },
 "nbformat": 4,
 "nbformat_minor": 5
}
